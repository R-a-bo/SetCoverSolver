{
 "cells": [
  {
   "cell_type": "code",
   "execution_count": 30,
   "metadata": {},
   "outputs": [],
   "source": [
    "import pandas as pd\n",
    "import numpy as np"
   ]
  },
  {
   "cell_type": "code",
   "execution_count": 244,
   "metadata": {},
   "outputs": [],
   "source": [
    "\"\"\" synthesize_dataset.py\n",
    "\treads in and generates data, turns them into instances, calls approximations class to produce labels\n",
    "\t\"\"\"\n",
    "import sys\n",
    "import random\n",
    "\n",
    "class Instance(object):\n",
    "\tdef __init__(self, union, subsets, name=None, weighted=False):\n",
    "\n",
    "\t\t# Main features\n",
    "\t\tself.name = name\n",
    "\t\tself.union = list(union)\n",
    "\t\tself.subsets = subsets\n",
    "\n",
    "\t\t# Separate access to subsets and weights, indices are the same in both lists\n",
    "\t\tself.sets = [tup[0] for tup in subsets]\n",
    "\t\tself.weights = [tup[1] for tup in subsets]\n",
    "\n",
    "\t\t# Indicates whether the instance is weighted or not\n",
    "\t\tself.is_weighted = weighted\n",
    "\n",
    "\t\t# To add!\n",
    "\t\tself.graph = None\n",
    "\t\tself.label = None\n",
    "        \n",
    "\tdef __str__(self):\n",
    "\t\treturn f\"Union: {self.union}\\nSubsets: {self.sets}\\nWeights {self.weights}\"\n",
    "\n",
    "class Dataset:\n",
    "\tdef __init__(self):\n",
    "\t\t#self.set_covers = []\n",
    "\t\tself.instances = []\n",
    "\t\tself.mlinstances = []\n",
    "\n",
    "\tdef generate_instance(self, n, m, l, w):\n",
    "\t\t''' Input:\n",
    "\t\t\tn: range of numbers\n",
    "\t\t\tm: size of union set\n",
    "\t\t\tl: number of subsets\n",
    "\t\t\tw: range of values for weights\n",
    "\n",
    "\t\t\tOutput: a union set, and a list of subsets '''\n",
    "\n",
    "\t\tpossible_numbers = range(n)\n",
    "\n",
    "\t\t# Union set of all numbers\n",
    "\t\tU = set(random.sample(possible_numbers, m))\n",
    "\n",
    "\t\t# Generate subset\n",
    "\t\tsubsets = []\n",
    "\t\tcontrol = set()\n",
    "\n",
    "\t\t# Create l subsets\n",
    "\t\tfor i in range(l - 1):\n",
    "\n",
    "\t\t\t# Create a subset of random size by sampling from the numbers in U\n",
    "\t\t\tsub_size = random.randrange(1, m)\n",
    "\t\t\tsub = set(random.sample(U, sub_size))\n",
    "\t\t\tsubsets += [sub]\n",
    "\n",
    "\t\t\t# Keep track of all the elements being added so far\n",
    "\t\t\tcontrol |= sub\n",
    "\n",
    "\t\t# If there were any elements missing from the subsets, add them as a last subset\n",
    "\t\trest = U - control\n",
    "\t\tif rest:\n",
    "\t\t\tsubsets += [rest]\n",
    "\n",
    "\t\t# Add weights to each subset\n",
    "\t\tweights = [random.randrange(w) for s in subsets]\n",
    "\n",
    "\t\t# Put them together and add them to the\n",
    "\t\tweighted_subsets = list(zip(subsets, weights))\n",
    "\n",
    "\t\tinstance = Instance(U, weighted_subsets)\n",
    "\t\tself.instances.append(instance)\n",
    "\n",
    "\t\treturn instance\n",
    "\n",
    "\tdef nonweighted_preprocess(self, fname):\n",
    "\t\t\"\"\" Preprocess files with name frb in them - they are instances of unweighted set cover.\n",
    "\t\t\tWe add a weight of 1 to each subset for consistency. \"\"\"\n",
    "\n",
    "\t\t# Read data and split lines\n",
    "\t\t#fname = \"data/frb/frb30-15-msc/frb30-15-1.msc\"\n",
    "\t\tfrb = open(fname, 'r')\n",
    "\t\tfrb_txt = frb.read()\n",
    "\t\tfrb_lines = frb_txt.split('\\n')\n",
    "\n",
    "\t\t# Get all elements, metadata and subset elements separately\n",
    "\t\tfrb_all = [el for el in frb_lines if len(el) != 0]\n",
    "\t\tfrb_meta = frb_lines[0].split()\n",
    "\t\tfrb_els = [el.split()[1:] for el in frb_lines[1:]]\n",
    "\n",
    "\t\t# Metadata\n",
    "\t\tunion_range = int(frb_meta[2])\n",
    "\t\tnum_subsets = int(frb_meta[3])\n",
    "\n",
    "\t\t# Elements\n",
    "\t\tunion = set(range(1, union_range + 1))\n",
    "\t\tsubsets = [{int(num) for num in subset} for subset in frb_els]\n",
    "\n",
    "\t\t# Add a weight of 1 to each\n",
    "\t\tunweighted_subsets = list(zip(subsets, [1]*len(subsets)))\n",
    "\n",
    "\t\treturn union, unweighted_subsets\n",
    "\n",
    "\tdef weighted_preprocess(self, fname):\n",
    "\t\t\"\"\" Preprocess files with name scp in them - they are instances of weighted set cover \"\"\"\n",
    "\n",
    "\t\t# Read data and split lines\n",
    "\t\t# fname = \"data/scp/scp43.txt\"\n",
    "\t\tscp = open(fname, 'r')\n",
    "\t\tscp = scp.read()\n",
    "\t\tlines = scp.split('\\n')\n",
    "\n",
    "\t\t# Separate each of the lines and create a list of numbers\n",
    "\t\tparsed_lines = [el.strip().split() for el in lines]\n",
    "\t\tparsed_lines = [int(el) for subset in parsed_lines for el in subset]\n",
    "\n",
    "\t\t# For the matrix form, get the number of rows and columns\n",
    "\t\tnum_rows = int(parsed_lines[0])\n",
    "\t\tnum_cols = int(parsed_lines[1])\n",
    "\n",
    "\t\t# Separate different blocks of information\n",
    "\t\tscp_meta = lines[0]\n",
    "\t\tweights = parsed_lines[2:2 + num_cols]\n",
    "\t\telements = parsed_lines[2 + num_cols:]\n",
    "\n",
    "\t\t# Get weights for each column, where element i is the weight for column i\n",
    "\t\tweight_map = dict(zip(range(1, num_cols + 1), weights))\n",
    "\n",
    "\t\t# Build the row cover map with structure {row i: [columns that cover row i]}\n",
    "\t\trow_cover = {}\n",
    "\n",
    "\t\t# Store ALL the rows being covered = Union set\n",
    "\t\tunion = set(range(1, num_rows + 1))\n",
    "\n",
    "\t\t# The first element of the parsed numbers\n",
    "\t\tcol_count = elements[0]\n",
    "\n",
    "\t\t# Start at the second element of parsed numbers to add columns\n",
    "\t\tcol_idx = 1\n",
    "\n",
    "\t\t# Build the row_cover dictionary\n",
    "\t\tfor row_idx in range(1, num_rows + 1):\n",
    "\t\t\t# Add column indices that cover row i\n",
    "\t\t\trow_cover[row_idx] = elements[col_idx:col_idx + col_count - 1]\n",
    "\n",
    "\t\t\t# Move the column index to the next number representing number of columns\n",
    "\t\t\tcol_idx += col_count\n",
    "\n",
    "\t\t\t# Only keep going until we don't have any columns left!\n",
    "\t\t\tif col_idx < len(elements):\n",
    "\n",
    "\t\t\t\t# Get the number of columns that we are about to read\n",
    "\t\t\t\tcol_count = elements[col_idx]\n",
    "\n",
    "\t\t\t\t# Make sure to start a number after the number of columns\n",
    "\t\t\t\tcol_idx += 1\n",
    "\n",
    "\t\t# Now build col_cover as the inverse of row_cover: {column i: rows that are covered by column i}\n",
    "\t\tcol_cover = {}\n",
    "\t\tfor i in range(1, num_cols + 1):\n",
    "\t\t\tcol_cover[i] = []\n",
    "\t\t\tfor row in union:\n",
    "\t\t\t\tif i in row_cover[row]:\n",
    "\t\t\t\t\tcol_cover[i].append(row)\n",
    "\n",
    "\t\t# Make a list of tuplets that contains subsets and their weights!\n",
    "\t\tweighted_subsets = []\n",
    "\n",
    "\t\tfor col_idx, row_indices in col_cover.items():\n",
    "\t\t\tweighted_subsets.append((set(row_indices), weight_map[col_idx]))\n",
    "\n",
    "\t\t# DONE :)!\n",
    "\t\t# print(weighted_subsets)\n",
    "\t\treturn [union, weighted_subsets]\n",
    "\n",
    "\tdef read(self, f_name):\n",
    "\t\t\"\"\" Takes in a file name and applies the correct preprocessing \"\"\"\n",
    "\n",
    "\t\t# Make sure we have the correct file format\n",
    "\t\tif \"frb\" not in f_name and \"scp\" not in f_name:\n",
    "\t\t\tprint(\"Wrong filename/unable to preprocess file\")\n",
    "\t\t\tsys.exit(1)\n",
    "\n",
    "\t\t# Make name for instance\n",
    "\t\tt_name = f_name.split(\"/\")\n",
    "\t\tinst_name = t_name[-1].replace(\".txt\", \"\").replace(\".msc\", \"\")\n",
    "\n",
    "\t\t# Read and add to the instances\n",
    "\t\tif \"frb\" in f_name:\n",
    "\t\t\tunion, subsets = self.nonweighted_preprocess(f_name)\n",
    "\t\t\tinstance = Instance(union, subsets, name=inst_name)\n",
    "\t\telse: #if \"scp\" in f_name:\n",
    "\t\t\tunion, subsets = self.weighted_preprocess(f_name)\n",
    "\t\t\tinstance = Instance(union, subsets, name=inst_name, weighted=True)\n",
    "\n",
    "\t\t# Create a new instance object and append it to the list of instances\n",
    "\t\tself.instances.append(instance)\n",
    "\n",
    "\t\treturn instance\n",
    "\n",
    "\tdef add_labels(self, set_covers):\n",
    "\t\t\"\"\"take each instance in set_covers and run it on our approximations. Set the label to the approx\n",
    "\t\t\ttechnique that leads to the smallest set cover.\"\"\"\n",
    "\t\tfor sc in set_covers:\n",
    "\t\t\tinput = Approximations(set(sc.union), sc.subsets)\n",
    "\t\t\tif input.valid():\n",
    "\t\t\t\tlabel = input.best()\n",
    "\t\t\t\tsc.label = label\n",
    "\t\t\t\tprint(label)\n",
    "\t\t\telse:\n",
    "\t\t\t\tprint(\"not valid\")\n",
    "\n",
    "\t\t\t# would then convert to a graph here\n",
    "\n",
    "\t\t\t#self.mlinstances.append([label, sc]) # this will actually be a graphs\n",
    "\n",
    "def main():\n",
    "\n",
    "\tdset = Dataset()\n",
    "\n",
    "\t# Test generation\n",
    "\tn = 100 # upper bound for range of numbers\n",
    "\tm = 10  # size of set\n",
    "\tl = 5   # size of list of subsets\n",
    "\tw = 10\n",
    "\n",
    "\tgenerated_instance = dset.generate_instance(n, m, l, w)\n",
    "\tprint()\n",
    "\tprint(\"=================================\")\n",
    "\tprint(\"Generated union:\")\n",
    "\t#print(generated_instance.union[:10])\n",
    "\tprint(generated_instance.union[:10])\n",
    "\tprint(\"Generated subsets:\")\n",
    "\tprint(generated_instance.subsets[:10])\n",
    "\n",
    "\n",
    "\t# Test reading files\n",
    "\tweighted_fname = \"data/scp/scpd1.txt\"\n",
    "\tunweighted_fname = \"data/frb/frb30-15-msc/frb30-15-1.msc\"\n",
    "\n",
    "\tweighted_instance = dset.read(weighted_fname)\n",
    "\tunweighted_instance = dset.read(unweighted_fname)\n",
    "\n",
    "\tprint()\n",
    "\tprint(\"=================================\")\n",
    "\tprint(\"Weighted name:\")\n",
    "\tprint(weighted_instance.name)\n",
    "\tprint(\"Weighted union:\")\n",
    "\tprint(weighted_instance.union[:10])\n",
    "\tprint(\"Weighted subsets:\")\n",
    "\tprint(weighted_instance.subsets[:10])\n",
    "\n",
    "\tprint()\n",
    "\tprint(\"=================================\")\n",
    "\tprint(\"Un-weighted name:\")\n",
    "\tprint(unweighted_instance.name)\n",
    "\tprint(\"Un-weighted union:\")\n",
    "\tprint(unweighted_instance.union[:10])\n",
    "\tprint(\"Un-weighted subsets\")\n",
    "\tprint(unweighted_instance.subsets[:10])\n",
    "\tprint(\"=================================\")"
   ]
  },
  {
   "cell_type": "code",
   "execution_count": 245,
   "metadata": {},
   "outputs": [],
   "source": [
    "data = Dataset()"
   ]
  },
  {
   "cell_type": "code",
   "execution_count": 246,
   "metadata": {},
   "outputs": [],
   "source": [
    "# Test generation\n",
    "n = 20 # upper bound for range of numbers\n",
    "m = 5  # size of set\n",
    "l = 15   # size of list of subsets\n",
    "w = 10"
   ]
  },
  {
   "cell_type": "code",
   "execution_count": 247,
   "metadata": {},
   "outputs": [],
   "source": [
    "instance1 = data.generate_instance(n, m, l, w)\n",
    "instance2 = data.generate_instance(n, m, l, w)\n",
    "instance3 = data.generate_instance(n, m, l, w)"
   ]
  },
  {
   "cell_type": "code",
   "execution_count": 248,
   "metadata": {},
   "outputs": [],
   "source": [
    "u1 = instance1.union\n",
    "s1 = instance1.sets\n",
    "w1 = instance1.weights"
   ]
  },
  {
   "cell_type": "code",
   "execution_count": 249,
   "metadata": {},
   "outputs": [
    {
     "name": "stdout",
     "output_type": "stream",
     "text": [
      "Union: [3, 5, 10, 14, 19]\n",
      "Subsets: [{3}, {14}, {19, 14}, {3, 14}, {19, 10, 3, 14}, {19, 3, 5, 14}, {5}, {5, 14}, {19, 10, 3, 5}, {3, 14}, {10, 19, 5, 14}, {3, 19, 5}, {10, 5}, {19, 3, 5}]\n",
      "Weights [3, 9, 7, 4, 6, 2, 3, 6, 4, 1, 4, 6, 5, 3]\n"
     ]
    }
   ],
   "source": [
    "print(instance1)"
   ]
  },
  {
   "cell_type": "markdown",
   "metadata": {},
   "source": [
    "#### Approach 0: Elements in matrix\n",
    "- Create a dictionary mapping the elements in the union to a list of ordered numbers \n",
    "    - Union: [4, 5, 7, 10, 16]\n",
    "    - Map: {4: 0, 5: 1, 7: 2, 10: 3, 16: 4}\n",
    "- Create a zero matrix of len(union) x len(subsets)\n",
    "- Matrix[union_map[subset element]][subset number] = weight_list[subset number]"
   ]
  },
  {
   "cell_type": "code",
   "execution_count": 250,
   "metadata": {},
   "outputs": [
    {
     "data": {
      "text/plain": [
       "(5, 14)"
      ]
     },
     "execution_count": 250,
     "metadata": {},
     "output_type": "execute_result"
    }
   ],
   "source": [
    "rows = len(u1)\n",
    "cols = len(s1)\n",
    "rows, cols"
   ]
  },
  {
   "cell_type": "code",
   "execution_count": 251,
   "metadata": {},
   "outputs": [],
   "source": [
    "matrix = np.zeros((rows, cols))"
   ]
  },
  {
   "cell_type": "code",
   "execution_count": 252,
   "metadata": {},
   "outputs": [
    {
     "data": {
      "text/plain": [
       "{3: 0, 5: 1, 10: 2, 14: 3, 19: 4}"
      ]
     },
     "execution_count": 252,
     "metadata": {},
     "output_type": "execute_result"
    }
   ],
   "source": [
    "union_map = dict(zip(u1, range(len(u1))))\n",
    "union_map"
   ]
  },
  {
   "cell_type": "code",
   "execution_count": 253,
   "metadata": {},
   "outputs": [
    {
     "name": "stdout",
     "output_type": "stream",
     "text": [
      "Set 0 is {3}\n",
      "Set 1 is {14}\n",
      "Set 2 is {19, 14}\n",
      "Set 3 is {3, 14}\n",
      "Set 4 is {19, 10, 3, 14}\n",
      "Set 5 is {19, 3, 5, 14}\n",
      "Set 6 is {5}\n",
      "Set 7 is {5, 14}\n",
      "Set 8 is {19, 10, 3, 5}\n",
      "Set 9 is {3, 14}\n",
      "Set 10 is {10, 19, 5, 14}\n",
      "Set 11 is {3, 19, 5}\n",
      "Set 12 is {10, 5}\n",
      "Set 13 is {19, 3, 5}\n"
     ]
    }
   ],
   "source": [
    "for i in range(len(s1)):\n",
    "    print(f\"Set {i} is {s1[i]}\")\n",
    "    for element in s1[i]:\n",
    "        matrix[union_map[element]][i] = w1[i]"
   ]
  },
  {
   "cell_type": "code",
   "execution_count": 255,
   "metadata": {},
   "outputs": [
    {
     "data": {
      "text/plain": [
       "array([[3., 0., 0., 4., 6., 2., 0., 0., 4., 1., 0., 6., 0., 3.],\n",
       "       [0., 0., 0., 0., 0., 2., 3., 6., 4., 0., 4., 6., 5., 3.],\n",
       "       [0., 0., 0., 0., 6., 0., 0., 0., 4., 0., 4., 0., 5., 0.],\n",
       "       [0., 9., 7., 4., 6., 2., 0., 6., 0., 1., 4., 0., 0., 0.],\n",
       "       [0., 0., 7., 0., 6., 2., 0., 0., 4., 0., 4., 6., 0., 3.]])"
      ]
     },
     "execution_count": 255,
     "metadata": {},
     "output_type": "execute_result"
    }
   ],
   "source": [
    "matrix"
   ]
  },
  {
   "cell_type": "markdown",
   "metadata": {},
   "source": [
    "#### Approach 1: Elements as nodes\n",
    "- The set of nodes will represent each element in the union\n",
    "- The set of weighted edges will represent whether 2 elements $n_i$ and $n_j$ are contained in two subsets $S_i$ and $S_j$, and the weight assigned to that edge will be the aggregate weight of $S_i$ and $S_j$."
   ]
  },
  {
   "cell_type": "code",
   "execution_count": 175,
   "metadata": {},
   "outputs": [
    {
     "name": "stdout",
     "output_type": "stream",
     "text": [
      "Number1 36 || Number2 36\n",
      "Set1 {36, 20, 22, 95}  || Set2 {74, 36, 22, 95}\n",
      "Number1 36 || Number2 22\n",
      "Set1 {36, 20, 22, 95}  || Set2 {74, 36, 22, 95}\n",
      "Number1 36 || Number2 95\n",
      "Set1 {36, 20, 22, 95}  || Set2 {74, 36, 22, 95}\n",
      "Number1 22 || Number2 22\n",
      "Set1 {36, 20, 22, 95}  || Set2 {74, 36, 22, 95}\n",
      "Number1 22 || Number2 95\n",
      "Set1 {36, 20, 22, 95}  || Set2 {74, 36, 22, 95}\n",
      "Number1 95 || Number2 95\n",
      "Set1 {36, 20, 22, 95}  || Set2 {95}\n",
      "Number1 95 || Number2 95\n",
      "Set1 {36, 20, 22, 95}  || Set2 {74, 36, 22, 95}\n"
     ]
    }
   ],
   "source": [
    "edge_list1 = []\n",
    "node_list1 = set()\n",
    "# Algorithm to turn a set into a graph\n",
    "for i in range(len(s1)):    \n",
    "    set1 = s1[i]\n",
    "    for number1 in set1:\n",
    "        for j in range(i+1, len(s1)):\n",
    "            set2 = s1[j]\n",
    "            for number2 in set2:\n",
    "                if number2 in set1 and number1 in set2 and (number1, number2, w1[i] + w1[j]) not in edge_list1 and (number2, number1, w1[i] + w1[j]) not in edge_list1:\n",
    "                    print(\"Number1\", number1, \"|| Number2\", number2)\n",
    "                    print(\"Set1\", set1, \" || Set2\", set2)\n",
    "                    edge_list1.append((number1, number2, w1[i] + w1[j]))\n",
    "                node_list1.add(number2)\n",
    "        node_list1.add(number1)\n",
    "                    "
   ]
  },
  {
   "cell_type": "code",
   "execution_count": 176,
   "metadata": {},
   "outputs": [
    {
     "data": {
      "text/plain": [
       "([(36, 36, 15),\n",
       "  (36, 22, 15),\n",
       "  (36, 95, 15),\n",
       "  (22, 22, 15),\n",
       "  (22, 95, 15),\n",
       "  (95, 95, 12),\n",
       "  (95, 95, 15)],\n",
       " {20, 22, 36, 74, 95})"
      ]
     },
     "execution_count": 176,
     "metadata": {},
     "output_type": "execute_result"
    }
   ],
   "source": [
    "edge_list1, node_list1"
   ]
  },
  {
   "cell_type": "markdown",
   "metadata": {},
   "source": [
    "#### Approach 2: Subsets as nodes\n",
    "- The set of nodes will represent each subset $S_i$ in the family of subsets $\\S$\n",
    "- The set of weighted edges will represent whether 2 subsets $S_i$ and $S_j$ contain an element $s_i = s_j$ in common, and the weight assigned to that edge will be the aggregate weight of $S_i$ and $S_j$."
   ]
  },
  {
   "cell_type": "code",
   "execution_count": 180,
   "metadata": {},
   "outputs": [
    {
     "name": "stdout",
     "output_type": "stream",
     "text": [
      "Number1 36 || Number2 95\n",
      "Set1 {36, 20, 22, 95}  || Set2 {95}\n",
      "Number1 36 || Number2 74\n",
      "Set1 {36, 20, 22, 95}  || Set2 {74, 36, 22, 95}\n",
      "Number1 95 || Number2 74\n",
      "Set1 {95}  || Set2 {74, 36, 22, 95}\n"
     ]
    }
   ],
   "source": [
    "edge_list2 = []\n",
    "node_list2 = set()\n",
    "# Algorithm to turn a set into a graph\n",
    "for i in range(len(s1)):    \n",
    "    set1 = s1[i]\n",
    "    for number1 in set1:\n",
    "        for j in range(i+1, len(s1)):\n",
    "            set2 = s1[j]\n",
    "            for number2 in set2:\n",
    "                if len(set(list(set1) + list(set2))) != 0 and (f\"s{i}\", f\"s{j}\", w1[i] + w1[j]) not in edge_list2:\n",
    "                    print(\"Number1\", number1, \"|| Number2\", number2)\n",
    "                    print(\"Set1\", set1, \" || Set2\", set2)\n",
    "                    edge_list2.append((f\"s{i}\", f\"s{j}\", w1[i] + w1[j]))\n",
    "            node_list2.add(f\"s{j}\")\n",
    "    node_list2.add(f\"s{i}\")\n",
    "                    "
   ]
  },
  {
   "cell_type": "code",
   "execution_count": 181,
   "metadata": {},
   "outputs": [
    {
     "data": {
      "text/plain": [
       "([('s0', 's1', 12), ('s0', 's3', 15), ('s1', 's3', 15)],\n",
       " {'s0', 's1', 's2', 's3'})"
      ]
     },
     "execution_count": 181,
     "metadata": {},
     "output_type": "execute_result"
    }
   ],
   "source": [
    "edge_list2, node_list2"
   ]
  },
  {
   "cell_type": "code",
   "execution_count": 68,
   "metadata": {},
   "outputs": [],
   "source": [
    "# Start experimenting with graph\n",
    "import networkx as nx\n",
    "import matplotlib.pyplot as plt\n",
    "import pygraphviz as pgv"
   ]
  },
  {
   "cell_type": "code",
   "execution_count": 182,
   "metadata": {},
   "outputs": [],
   "source": [
    "mg = nx.MultiGraph()\n",
    "# mg.add_weighted_edges_from([(36, 22, 0.15), (36, 95, 0.15), (22, 95, 0.15)])"
   ]
  },
  {
   "cell_type": "code",
   "execution_count": 127,
   "metadata": {},
   "outputs": [],
   "source": [
    "for edge in edge_list:\n",
    "    mg.add_edge(edge[0], edge[1], weight=edge[2])"
   ]
  },
  {
   "cell_type": "code",
   "execution_count": 128,
   "metadata": {},
   "outputs": [
    {
     "data": {
      "text/plain": [
       "MultiEdgeView([(36, 22, 0), (36, 95, 0), (22, 95, 0)])"
      ]
     },
     "execution_count": 128,
     "metadata": {},
     "output_type": "execute_result"
    }
   ],
   "source": [
    "mg.edges"
   ]
  },
  {
   "cell_type": "code",
   "execution_count": 129,
   "metadata": {},
   "outputs": [
    {
     "data": {
      "text/plain": [
       "{36: 30, 22: 30, 95: 30}"
      ]
     },
     "execution_count": 129,
     "metadata": {},
     "output_type": "execute_result"
    }
   ],
   "source": [
    "dict(mg.degree(weight='weight'))"
   ]
  },
  {
   "cell_type": "code",
   "execution_count": 130,
   "metadata": {},
   "outputs": [],
   "source": [
    "nodes = list(mg.nodes)\n",
    "node_list = [node for node in node_list if node not in nodes]"
   ]
  },
  {
   "cell_type": "code",
   "execution_count": 131,
   "metadata": {},
   "outputs": [],
   "source": [
    "mg.add_nodes_from(node_list)"
   ]
  },
  {
   "cell_type": "code",
   "execution_count": 108,
   "metadata": {},
   "outputs": [],
   "source": [
    "edge_list[0] = (36, 36, 0.15)"
   ]
  },
  {
   "cell_type": "code",
   "execution_count": 132,
   "metadata": {},
   "outputs": [],
   "source": [
    "from networkx.drawing.nx_agraph import write_dot"
   ]
  },
  {
   "cell_type": "code",
   "execution_count": 87,
   "metadata": {},
   "outputs": [
    {
     "data": {
      "image/png": "[encoded data removed]",
      "text/plain": [
       "<Figure size 432x288 with 1 Axes>"
      ]
     },
     "metadata": {},
     "output_type": "display_data"
    }
   ],
   "source": [
    "nx.draw(mg, with_labels=True, font_weight='bold')"
   ]
  },
  {
   "cell_type": "code",
   "execution_count": 133,
   "metadata": {},
   "outputs": [],
   "source": [
    "nx.nx_agraph.write_dot(mg, \"test.dot\")"
   ]
  },
  {
   "cell_type": "code",
   "execution_count": 134,
   "metadata": {},
   "outputs": [],
   "source": [
    "B = pgv.AGraph('test.dot')"
   ]
  },
  {
   "cell_type": "code",
   "execution_count": 136,
   "metadata": {},
   "outputs": [],
   "source": [
    "B.layout() "
   ]
  },
  {
   "cell_type": "code",
   "execution_count": 137,
   "metadata": {},
   "outputs": [],
   "source": [
    "B.draw('simple.png')"
   ]
  },
  {
   "cell_type": "code",
   "execution_count": null,
   "metadata": {},
   "outputs": [],
   "source": []
  }
 ],
 "metadata": {
  "kernelspec": {
   "display_name": "Python 3",
   "language": "python",
   "name": "python3"
  },
  "language_info": {
   "codemirror_mode": {
    "name": "ipython",
    "version": 3
   },
   "file_extension": ".py",
   "mimetype": "text/x-python",
   "name": "python",
   "nbconvert_exporter": "python",
   "pygments_lexer": "ipython3",
   "version": "3.6.8"
  }
 },
 "nbformat": 4,
 "nbformat_minor": 2
}
