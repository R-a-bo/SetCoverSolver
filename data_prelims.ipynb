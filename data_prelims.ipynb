{
 "cells": [
  {
   "cell_type": "code",
   "execution_count": 2,
   "metadata": {},
   "outputs": [],
   "source": [
    "import pandas as pd\n",
    "import numpy as np\n",
    "import random"
   ]
  },
  {
   "cell_type": "code",
   "execution_count": 88,
   "metadata": {},
   "outputs": [],
   "source": [
    "# Source: https://stackoverflow.com/questions/44217935/set-cover-generating-test-instances\n",
    "\n",
    "def generate_sets(n, m, l):\n",
    "    ''' Input: \n",
    "        n: range of numbers\n",
    "        m: size of union set\n",
    "        l: number of subsets \n",
    "        \n",
    "        Output: a union set, and a list of subsets '''\n",
    "    \n",
    "    possible_numbers = range(n)\n",
    "    \n",
    "    # Union set of all numbers\n",
    "    U = set(random.sample(possible_numbers, m))\n",
    "    \n",
    "    # Generate subset\n",
    "    subsets = []\n",
    "    control = set()\n",
    "    \n",
    "    # Create l subsets\n",
    "    for i in range(l - 1):\n",
    "        \n",
    "        # Create a subset of random size by sampling from the numbers in U\n",
    "        sub_size = random.randrange(m)\n",
    "        sub = set(random.sample(U, sub_size))\n",
    "        subsets += [sub]\n",
    "        \n",
    "        # Keep track of all the elements being added so far\n",
    "        control |= sub\n",
    "    \n",
    "    # If there were any elements missing from the subsets, add them as a last subset\n",
    "    rest = U - control    \n",
    "    if rest:\n",
    "        subsets += [rest]\n",
    "    \n",
    "    return U, subsets\n",
    "\n",
    "def process_data(file):\n",
    "    pass\n",
    "\n",
    "def output_data(union, subsets):\n",
    "    pass"
   ]
  },
  {
   "cell_type": "code",
   "execution_count": 89,
   "metadata": {},
   "outputs": [],
   "source": [
    "random.seed(69)\n",
    "n = 100 # upper bound for range of numbers\n",
    "m = 10  # size of set\n",
    "l = 5   # size of list of subsets\n",
    "\n",
    "union, subs = generate_sets(n, m, l)"
   ]
  },
  {
   "cell_type": "code",
   "execution_count": 90,
   "metadata": {},
   "outputs": [
    {
     "name": "stdout",
     "output_type": "stream",
     "text": [
      "Union set: {4, 70, 8, 41, 12, 77, 44, 21, 53, 87}\n",
      "Subsets: [{70, 41, 12, 77, 44, 21, 87}, {70, 8, 44, 77, 53, 87}, {41, 12}, {4, 70, 8, 41, 12, 44, 53, 87}]\n"
     ]
    }
   ],
   "source": [
    "print(\"Union set:\", union)\n",
    "print(\"Subsets:\", subs)"
   ]
  },
  {
   "cell_type": "code",
   "execution_count": null,
   "metadata": {},
   "outputs": [],
   "source": []
  },
  {
   "cell_type": "code",
   "execution_count": null,
   "metadata": {},
   "outputs": [],
   "source": []
  },
  {
   "cell_type": "code",
   "execution_count": 92,
   "metadata": {},
   "outputs": [],
   "source": []
  }
 ],
 "metadata": {
  "kernelspec": {
   "display_name": "Python 3",
   "language": "python",
   "name": "python3"
  },
  "language_info": {
   "codemirror_mode": {
    "name": "ipython",
    "version": 3
   },
   "file_extension": ".py",
   "mimetype": "text/x-python",
   "name": "python",
   "nbconvert_exporter": "python",
   "pygments_lexer": "ipython3",
   "version": "3.6.8"
  }
 },
 "nbformat": 4,
 "nbformat_minor": 2
}
